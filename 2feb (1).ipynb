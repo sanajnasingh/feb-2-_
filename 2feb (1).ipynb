{
 "cells": [
  {
   "cell_type": "code",
   "execution_count": null,
   "id": "eafc21e9-3b1f-484c-aed2-edb46fb01a53",
   "metadata": {},
   "outputs": [],
   "source": [
    "ans 1\n",
    "Guido van Rossum"
   ]
  },
  {
   "cell_type": "code",
   "execution_count": null,
   "id": "4ce5afaa-0dc4-4610-8e4b-880a98aa592b",
   "metadata": {},
   "outputs": [],
   "source": [
    "ans 2\n",
    "Python is an interpreted programming language, supporting object-oriented, structured, and functional programming.\n"
   ]
  },
  {
   "cell_type": "code",
   "execution_count": null,
   "id": "504917af-990f-4775-a4aa-2bf5499f1548",
   "metadata": {},
   "outputs": [],
   "source": [
    "ans 3\n",
    "Yes, Python is a case−sensitive programming language. This means that it considers uppercase and lowercase letters differently."
   ]
  },
  {
   "cell_type": "code",
   "execution_count": null,
   "id": "bfecaeee-5b52-47a3-a06b-a8d067893174",
   "metadata": {},
   "outputs": [],
   "source": [
    "ans 4\n",
    "This is the file extension for compiled Python code files. When a . py file is executed, the Python interpreter compiles the code to bytecode \n",
    "and saves it in a .pyc file to improve performance on subsequent executions."
   ]
  },
  {
   "cell_type": "code",
   "execution_count": null,
   "id": "bb639c94-b174-4f45-96d2-37560362e6e4",
   "metadata": {},
   "outputs": [],
   "source": [
    "ans 5\n",
    "Python is an interpreted language,\n",
    "which means the source code of a Python program is converted into bytecode that is then executed by the Python virtual machine."
   ]
  },
  {
   "cell_type": "code",
   "execution_count": null,
   "id": "89debfde-51c1-4234-bf15-27a6d31d3d9a",
   "metadata": {},
   "outputs": [],
   "source": [
    "ans 6\n",
    "The following are blocks: a module, a function body, and a class definition.\n",
    "Each command typed interactively is a block."
   ]
  },
  {
   "cell_type": "code",
   "execution_count": null,
   "id": "f71bc205-a89d-444d-ae95-17cb48fc612d",
   "metadata": {},
   "outputs": [],
   "source": [
    "ans 7\n",
    "single \"#\" character"
   ]
  },
  {
   "cell_type": "code",
   "execution_count": null,
   "id": "1c9890a5-5012-4b0e-b451-f41c9089f675",
   "metadata": {},
   "outputs": [],
   "source": [
    "ans 8\n",
    "The function sys. version can help us to find the version of python that we are currently working on. It also contains information\n",
    "on the build number and compiler used."
   ]
  },
  {
   "cell_type": "code",
   "execution_count": null,
   "id": "6fbbd7dc-0869-410b-a5c6-6543f0b88838",
   "metadata": {},
   "outputs": [],
   "source": [
    "ans 9\n",
    " lambda."
   ]
  },
  {
   "cell_type": "code",
   "execution_count": null,
   "id": "35cf3dd2-5502-4153-a404-fe782116885c",
   "metadata": {},
   "outputs": [],
   "source": [
    "ans 10\n",
    " “Preferred Installer Program” or PIP Installs Packages"
   ]
  },
  {
   "cell_type": "code",
   "execution_count": null,
   "id": "8aca73f6-50b5-4b53-ad2c-5449b08de504",
   "metadata": {},
   "outputs": [],
   "source": [
    "ans 11\n",
    "Function\t    Description\n",
    "int()\t        Returns an integer number\n",
    "iter()\t        Returns an iterator object\n",
    "bool()      \tReturns the boolean value of the specified object\n",
    "dict()\t        Returns a dictionary (Array)\n",
    "float()     \tReturns a floating point number\n",
    "list()      \tReturns a list"
   ]
  },
  {
   "cell_type": "code",
   "execution_count": null,
   "id": "190097c2-d093-49b9-845c-94a151d6b65f",
   "metadata": {},
   "outputs": [],
   "source": [
    "ans 12\n",
    "79 characters"
   ]
  },
  {
   "cell_type": "code",
   "execution_count": null,
   "id": "30ab629d-ffac-4ab5-b25a-c094ca326edd",
   "metadata": {},
   "outputs": [],
   "source": [
    "ans 13\n",
    "1.Presence of third-party modules \n",
    "2.Extensive support libraries(NumPy for numerical calculations, Pandas for data analytics, etc.) \n",
    "3.Open source and large active community base \n",
    "4.Versatile, Easy to read, learn and write\n",
    "5.User-friendly data structures \n",
    "6.High-level language "
   ]
  },
  {
   "cell_type": "code",
   "execution_count": null,
   "id": "684b3d7b-528a-443b-a6b5-1da455c2f16f",
   "metadata": {},
   "outputs": [],
   "source": [
    "ans 14\n",
    "It involves a private heap containing all Python objects and data structures."
   ]
  },
  {
   "cell_type": "code",
   "execution_count": null,
   "id": "64f4db02-f860-402d-8bdc-974c2f770a86",
   "metadata": {},
   "outputs": [],
   "source": [
    "ans 15\n",
    "The complete path of python.exe can be added by:\n",
    "1.Right-clicking This PC and going to Properties.\n",
    "2.Clicking on the Advanced system settings in the menu on the left.\n",
    "3.Clicking on the Environment Variables button o​n the bottom right.\n",
    "4.In the System variables section, selecting the Path variable and clicking on Edit.\n",
    "The next screen will show all the directories that are currently a part of the PATH variable.\n",
    "\n",
    "5.Clicking on New and entering Python’s install directory."
   ]
  },
  {
   "cell_type": "code",
   "execution_count": null,
   "id": "f4e0a342-844a-43d1-ac54-7b59405d9e7b",
   "metadata": {},
   "outputs": [],
   "source": [
    "ans 16\n",
    "Indentation is important to Python, because it's how you determine scope."
   ]
  }
 ],
 "metadata": {
  "kernelspec": {
   "display_name": "Python 3 (ipykernel)",
   "language": "python",
   "name": "python3"
  },
  "language_info": {
   "codemirror_mode": {
    "name": "ipython",
    "version": 3
   },
   "file_extension": ".py",
   "mimetype": "text/x-python",
   "name": "python",
   "nbconvert_exporter": "python",
   "pygments_lexer": "ipython3",
   "version": "3.10.8"
  }
 },
 "nbformat": 4,
 "nbformat_minor": 5
}
